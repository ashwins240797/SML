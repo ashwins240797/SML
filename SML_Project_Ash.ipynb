{
 "cells": [
  {
   "cell_type": "code",
   "execution_count": 1,
   "metadata": {},
   "outputs": [],
   "source": [
    "import numpy as np\n",
    "import tensorflow as tf\n",
    "import keras\n",
    "from keras.datasets import cifar10\n",
    "import matplotlib.pyplot as plt\n",
    "from sklearn.metrics import classification_report, confusion_matrix, plot_confusion_matrix, accuracy_score\n",
    "from sklearn.linear_model import LogisticRegression\n",
    "from sklearn.svm import SVC\n",
    "import time"
   ]
  },
  {
   "cell_type": "code",
   "execution_count": 2,
   "metadata": {},
   "outputs": [
    {
     "name": "stdout",
     "output_type": "stream",
     "text": [
      "X_train shape: (50000, 32, 32, 3)\n",
      "50000 train samples\n",
      "10000 test samples\n"
     ]
    }
   ],
   "source": [
    "# define num_class\n",
    "num_classes = 10\n",
    "\n",
    "# load dataset keras will download cifar-10 datset\n",
    "(X_train, y_train), (X_test, y_test) = cifar10.load_data()  \n",
    "\n",
    "print('X_train shape:', X_train.shape)\n",
    "print(X_train.shape[0], 'train samples')\n",
    "print(X_test.shape[0], 'test samples')\n",
    "\n",
    "ytest1=y_test\n",
    "# (Optional)Convert class vectors to binary class matrices.\n",
    "y_train = tf.keras.utils.to_categorical(y_train, num_classes)\n",
    "y_test = tf.keras.utils.to_categorical(y_test, num_classes)\n"
   ]
  },
  {
   "cell_type": "code",
   "execution_count": 3,
   "metadata": {},
   "outputs": [],
   "source": [
    "#Covert the input images to same scale\n",
    "X_train = X_train/255\n",
    "X_test = X_test/255"
   ]
  },
  {
   "cell_type": "markdown",
   "metadata": {},
   "source": [
    "### Method 1: Deep Neural Network with Convolutional Layer"
   ]
  },
  {
   "cell_type": "markdown",
   "metadata": {},
   "source": [
    "#### VGG 3 Based Architecture"
   ]
  },
  {
   "cell_type": "code",
   "execution_count": 4,
   "metadata": {},
   "outputs": [],
   "source": [
    "start_time = time.time()\n",
    "\n",
    "tf.keras.backend.clear_session()\n",
    "\n",
    "#Initialize model, reshape & normalize data\n",
    "model = tf.keras.models.Sequential()\n",
    "\n",
    "#normalize data\n",
    "model.add(tf.keras.layers.BatchNormalization())\n",
    "\n",
    "#Add first  set of convolutional layer\n",
    "model.add(tf.keras.layers.Conv2D(32,kernel_size=(3,3),activation='relu',padding='same',input_shape=(32,32,3)))\n",
    "model.add(tf.keras.layers.Conv2D(32,kernel_size=(3,3),activation='relu',padding='same'))\n",
    "#Add MaxPooling layer\n",
    "model.add(tf.keras.layers.MaxPool2D(pool_size=(2,2)))\n",
    "\n",
    "#Add second  set of convolutional layer\n",
    "model.add(tf.keras.layers.Conv2D(64, kernel_size=(3,3), activation='relu',padding='same'))\n",
    "model.add(tf.keras.layers.Conv2D(64, kernel_size=(3,3), activation='relu',padding='same'))\n",
    "#Add MaxPooling layer\n",
    "model.add(tf.keras.layers.MaxPool2D(pool_size=(2,2)))\n",
    "\n",
    "\n",
    "#Add thirs set of  convolutional layer\n",
    "model.add(tf.keras.layers.Conv2D(128, kernel_size=(3,3), activation='relu',padding='same'))\n",
    "model.add(tf.keras.layers.Conv2D(128, kernel_size=(3,3), activation='relu',padding='same'))\n",
    "#Add MaxPooling layer\n",
    "model.add(tf.keras.layers.MaxPool2D(pool_size=(2,2)))\n",
    "\n",
    "\n",
    "#Flatten the output\n",
    "model.add(tf.keras.layers.Flatten())\n",
    "\n",
    "          \n",
    "#Dense layer\n",
    "model.add(tf.keras.layers.Dense(64, activation='relu'))\n",
    "#Add another dropout layer\n",
    "model.add(tf.keras.layers.Dropout(0.25))\n",
    "#Output layer\n",
    "model.add(tf.keras.layers.Dense(10, activation='softmax'))"
   ]
  },
  {
   "cell_type": "code",
   "execution_count": 5,
   "metadata": {},
   "outputs": [],
   "source": [
    "model.compile(optimizer='adam', loss='categorical_crossentropy', metrics=['accuracy'])"
   ]
  },
  {
   "cell_type": "code",
   "execution_count": 6,
   "metadata": {},
   "outputs": [
    {
     "name": "stdout",
     "output_type": "stream",
     "text": [
      "Epoch 1/10\n",
      "1563/1563 [==============================] - 216s 137ms/step - loss: 1.7694 - accuracy: 0.3531 - val_loss: 1.0401 - val_accuracy: 0.6265\n",
      "Epoch 2/10\n",
      "1563/1563 [==============================] - 216s 138ms/step - loss: 1.0552 - accuracy: 0.6295 - val_loss: 0.8486 - val_accuracy: 0.7020\n",
      "Epoch 3/10\n",
      "1563/1563 [==============================] - 222s 142ms/step - loss: 0.8394 - accuracy: 0.7082 - val_loss: 0.7985 - val_accuracy: 0.7283\n",
      "Epoch 4/10\n",
      "1563/1563 [==============================] - 223s 143ms/step - loss: 0.6959 - accuracy: 0.7601 - val_loss: 0.6867 - val_accuracy: 0.7686\n",
      "Epoch 5/10\n",
      "1563/1563 [==============================] - 329s 210ms/step - loss: 0.6115 - accuracy: 0.7923 - val_loss: 0.7160 - val_accuracy: 0.7692\n",
      "Epoch 6/10\n",
      "1563/1563 [==============================] - 120s 77ms/step - loss: 0.5312 - accuracy: 0.8160 - val_loss: 0.7448 - val_accuracy: 0.7579\n",
      "Epoch 7/10\n",
      "1563/1563 [==============================] - 124s 80ms/step - loss: 0.4788 - accuracy: 0.8346 - val_loss: 0.6902 - val_accuracy: 0.7725\n",
      "Epoch 8/10\n",
      "1563/1563 [==============================] - 120s 76ms/step - loss: 0.4228 - accuracy: 0.8513 - val_loss: 0.7240 - val_accuracy: 0.7697\n",
      "Epoch 9/10\n",
      "1563/1563 [==============================] - 144s 92ms/step - loss: 0.3782 - accuracy: 0.8689 - val_loss: 0.7664 - val_accuracy: 0.7793\n",
      "Epoch 10/10\n",
      "1563/1563 [==============================] - 143s 91ms/step - loss: 0.3491 - accuracy: 0.8760 - val_loss: 0.7639 - val_accuracy: 0.7770\n"
     ]
    }
   ],
   "source": [
    "#Train the model\n",
    "history = model.fit(X_train,y_train,\n",
    "                    validation_data=(X_test,y_test),\n",
    "                    epochs=10)\n",
    "                    #batch_size=128)"
   ]
  },
  {
   "cell_type": "code",
   "execution_count": 8,
   "metadata": {},
   "outputs": [
    {
     "name": "stdout",
     "output_type": "stream",
     "text": [
      "Convergence Time in seconds: 1865.7826697826385\n"
     ]
    }
   ],
   "source": [
    "end_time = time.time()\n",
    "cnn_ct = end_time - start_time\n",
    "print(\"Convergence Time in seconds:\",(cnn_ct))"
   ]
  },
  {
   "cell_type": "code",
   "execution_count": 9,
   "metadata": {},
   "outputs": [
    {
     "name": "stdout",
     "output_type": "stream",
     "text": [
      "Model: \"sequential\"\n",
      "_________________________________________________________________\n",
      "Layer (type)                 Output Shape              Param #   \n",
      "=================================================================\n",
      "batch_normalization (BatchNo (None, 32, 32, 3)         12        \n",
      "_________________________________________________________________\n",
      "conv2d (Conv2D)              (None, 32, 32, 32)        896       \n",
      "_________________________________________________________________\n",
      "conv2d_1 (Conv2D)            (None, 32, 32, 32)        9248      \n",
      "_________________________________________________________________\n",
      "max_pooling2d (MaxPooling2D) (None, 16, 16, 32)        0         \n",
      "_________________________________________________________________\n",
      "conv2d_2 (Conv2D)            (None, 16, 16, 64)        18496     \n",
      "_________________________________________________________________\n",
      "conv2d_3 (Conv2D)            (None, 16, 16, 64)        36928     \n",
      "_________________________________________________________________\n",
      "max_pooling2d_1 (MaxPooling2 (None, 8, 8, 64)          0         \n",
      "_________________________________________________________________\n",
      "conv2d_4 (Conv2D)            (None, 8, 8, 128)         73856     \n",
      "_________________________________________________________________\n",
      "conv2d_5 (Conv2D)            (None, 8, 8, 128)         147584    \n",
      "_________________________________________________________________\n",
      "max_pooling2d_2 (MaxPooling2 (None, 4, 4, 128)         0         \n",
      "_________________________________________________________________\n",
      "flatten (Flatten)            (None, 2048)              0         \n",
      "_________________________________________________________________\n",
      "dense (Dense)                (None, 64)                131136    \n",
      "_________________________________________________________________\n",
      "dropout (Dropout)            (None, 64)                0         \n",
      "_________________________________________________________________\n",
      "dense_1 (Dense)              (None, 10)                650       \n",
      "=================================================================\n",
      "Total params: 418,806\n",
      "Trainable params: 418,800\n",
      "Non-trainable params: 6\n",
      "_________________________________________________________________\n"
     ]
    }
   ],
   "source": [
    "model.summary()"
   ]
  },
  {
   "cell_type": "code",
   "execution_count": 10,
   "metadata": {},
   "outputs": [
    {
     "name": "stdout",
     "output_type": "stream",
     "text": [
      "classification Report :\n",
      "               precision    recall  f1-score   support\n",
      "\n",
      "           0       0.83      0.77      0.80      1000\n",
      "           1       0.88      0.90      0.89      1000\n",
      "           2       0.74      0.64      0.69      1000\n",
      "           3       0.56      0.66      0.60      1000\n",
      "           4       0.73      0.77      0.75      1000\n",
      "           5       0.67      0.74      0.70      1000\n",
      "           6       0.81      0.84      0.82      1000\n",
      "           7       0.87      0.75      0.81      1000\n",
      "           8       0.89      0.84      0.86      1000\n",
      "           9       0.86      0.86      0.86      1000\n",
      "\n",
      "    accuracy                           0.78     10000\n",
      "   macro avg       0.78      0.78      0.78     10000\n",
      "weighted avg       0.78      0.78      0.78     10000\n",
      "\n"
     ]
    }
   ],
   "source": [
    "#predictions:\n",
    "y_pred = model.predict(X_test)\n",
    "y_class = [np.argmax(element) for element in y_pred]\n",
    "print(\"classification Report :\\n\",classification_report(ytest1,y_class))"
   ]
  },
  {
   "cell_type": "code",
   "execution_count": 11,
   "metadata": {},
   "outputs": [
    {
     "data": {
      "image/png": "[encoded data removed]",
      "text/plain": [
       "<Figure size 720x720 with 2 Axes>"
      ]
     },
     "metadata": {
      "needs_background": "light"
     },
     "output_type": "display_data"
    }
   ],
   "source": [
    "#plotting the accuracy\n",
    "plt.figure(figsize=(10,10))\n",
    "plt.subplot(2,2,1)\n",
    "plt.plot(history.history['val_accuracy'])\n",
    "plt.plot(history.history['accuracy'])\n",
    "plt.xlabel('Epochs')\n",
    "plt.ylabel('Accuracy')\n",
    "plt.title('Model Accuracy')\n",
    "plt.legend(['Validation accuracy','Train accuracy'], loc = 'lower right')\n",
    "\n",
    "\n",
    "#plotting the losses\n",
    "plt.subplot(2,2,2)\n",
    "plt.plot(history.history['val_loss'])\n",
    "plt.plot(history.history['loss'])\n",
    "plt.xlabel('Epochs')\n",
    "plt.ylabel('Categorical Cross Entropy')\n",
    "plt.title('Model Losses')\n",
    "plt.legend(['Test','Train'], loc = 'upper right')\n",
    "plt.show()"
   ]
  },
  {
   "cell_type": "code",
   "execution_count": 13,
   "metadata": {},
   "outputs": [
    {
     "data": {
      "text/plain": [
       "0.777"
      ]
     },
     "execution_count": 13,
     "metadata": {},
     "output_type": "execute_result"
    }
   ],
   "source": [
    "tf.math.confusion_matrix(ytest1,y_class)\n",
    "cnn_acc=accuracy_score(ytest1,y_class)\n",
    "cnn_acc"
   ]
  },
  {
   "cell_type": "markdown",
   "metadata": {},
   "source": [
    "### Method 2: Deep Neural Network with Convolution Layer"
   ]
  },
  {
   "cell_type": "code",
   "execution_count": 14,
   "metadata": {},
   "outputs": [],
   "source": [
    "\n",
    "#Initialize Sequential model\n",
    "model = tf.keras.models.Sequential()\n",
    "\n",
    "model.add(tf.keras.layers.Flatten(input_shape=(32,32,3)))\n",
    "\n",
    "#Normalize the data\n",
    "model.add(tf.keras.layers.BatchNormalization())\n",
    "\n",
    "#Add 1st hidden layer\n",
    "model.add(tf.keras.layers.Dense(200))\n",
    "model.add(tf.keras.layers.LeakyReLU())\n",
    "model.add(tf.keras.layers.BatchNormalization())\n",
    "\n",
    "#Add 2nd hidden layer\n",
    "model.add(tf.keras.layers.Dense(100))\n",
    "model.add(tf.keras.layers.LeakyReLU())\n",
    "model.add(tf.keras.layers.BatchNormalization())\n",
    "\n",
    "#Add 3rd hidden layer\n",
    "model.add(tf.keras.layers.Dense(60))\n",
    "model.add(tf.keras.layers.BatchNormalization())\n",
    "model.add(tf.keras.layers.LeakyReLU())\n",
    "model.add(tf.keras.layers.Dropout(0.3))\n",
    "\n",
    "\n",
    "#Add OUTPUT layer\n",
    "model.add(tf.keras.layers.Dense(10, activation='softmax'))\n",
    "\n"
   ]
  },
  {
   "cell_type": "code",
   "execution_count": 15,
   "metadata": {},
   "outputs": [],
   "source": [
    "#Compile the model\n",
    "sgd_op = tf.keras.optimizers.SGD(lr=0.01, momentum=0.9)\n",
    "model.compile(optimizer=sgd_op, loss='categorical_crossentropy', \n",
    "              metrics=['accuracy'])"
   ]
  },
  {
   "cell_type": "code",
   "execution_count": 16,
   "metadata": {},
   "outputs": [
    {
     "name": "stdout",
     "output_type": "stream",
     "text": [
      "Epoch 1/10\n",
      "1563/1563 [==============================] - 9s 5ms/step - loss: 1.8990 - accuracy: 0.3272 - val_loss: 1.5568 - val_accuracy: 0.4535\n",
      "Epoch 2/10\n",
      "1563/1563 [==============================] - 7s 5ms/step - loss: 1.6085 - accuracy: 0.4268 - val_loss: 1.4882 - val_accuracy: 0.4727\n",
      "Epoch 3/10\n",
      "1563/1563 [==============================] - 7s 5ms/step - loss: 1.5410 - accuracy: 0.4558 - val_loss: 1.4382 - val_accuracy: 0.4876\n",
      "Epoch 4/10\n",
      "1563/1563 [==============================] - 8s 5ms/step - loss: 1.4874 - accuracy: 0.4701 - val_loss: 1.4128 - val_accuracy: 0.4932\n",
      "Epoch 5/10\n",
      "1563/1563 [==============================] - 7s 5ms/step - loss: 1.4401 - accuracy: 0.4882 - val_loss: 1.3680 - val_accuracy: 0.5166\n",
      "Epoch 6/10\n",
      "1563/1563 [==============================] - 7s 5ms/step - loss: 1.4051 - accuracy: 0.5002 - val_loss: 1.3785 - val_accuracy: 0.5080\n",
      "Epoch 7/10\n",
      "1563/1563 [==============================] - 11s 7ms/step - loss: 1.3856 - accuracy: 0.5046 - val_loss: 1.3652 - val_accuracy: 0.5153\n",
      "Epoch 8/10\n",
      "1563/1563 [==============================] - 9s 6ms/step - loss: 1.3590 - accuracy: 0.5161 - val_loss: 1.3477 - val_accuracy: 0.5187\n",
      "Epoch 9/10\n",
      "1563/1563 [==============================] - 8s 5ms/step - loss: 1.3324 - accuracy: 0.5267 - val_loss: 1.3445 - val_accuracy: 0.5206\n",
      "Epoch 10/10\n",
      "1563/1563 [==============================] - 7s 5ms/step - loss: 1.3181 - accuracy: 0.5340 - val_loss: 1.3345 - val_accuracy: 0.5266\n"
     ]
    }
   ],
   "source": [
    "#Train the model\n",
    "history = model.fit(X_train,y_train,\n",
    "                    validation_data=(X_test,y_test),\n",
    "                    epochs=10,\n",
    "                    batch_size=32)"
   ]
  },
  {
   "cell_type": "code",
   "execution_count": 17,
   "metadata": {},
   "outputs": [
    {
     "name": "stdout",
     "output_type": "stream",
     "text": [
      "Convergence Time in seconds: 1980.5928654670715\n"
     ]
    }
   ],
   "source": [
    "end_time = time.time()\n",
    "dnn_ct = end_time - start_time\n",
    "print(\"Convergence Time in seconds:\",(dnn_ct))"
   ]
  },
  {
   "cell_type": "code",
   "execution_count": 18,
   "metadata": {},
   "outputs": [
    {
     "name": "stdout",
     "output_type": "stream",
     "text": [
      "Model: \"sequential_1\"\n",
      "_________________________________________________________________\n",
      "Layer (type)                 Output Shape              Param #   \n",
      "=================================================================\n",
      "flatten_1 (Flatten)          (None, 3072)              0         \n",
      "_________________________________________________________________\n",
      "batch_normalization_1 (Batch (None, 3072)              12288     \n",
      "_________________________________________________________________\n",
      "dense_2 (Dense)              (None, 200)               614600    \n",
      "_________________________________________________________________\n",
      "leaky_re_lu (LeakyReLU)      (None, 200)               0         \n",
      "_________________________________________________________________\n",
      "batch_normalization_2 (Batch (None, 200)               800       \n",
      "_________________________________________________________________\n",
      "dense_3 (Dense)              (None, 100)               20100     \n",
      "_________________________________________________________________\n",
      "leaky_re_lu_1 (LeakyReLU)    (None, 100)               0         \n",
      "_________________________________________________________________\n",
      "batch_normalization_3 (Batch (None, 100)               400       \n",
      "_________________________________________________________________\n",
      "dense_4 (Dense)              (None, 60)                6060      \n",
      "_________________________________________________________________\n",
      "batch_normalization_4 (Batch (None, 60)                240       \n",
      "_________________________________________________________________\n",
      "leaky_re_lu_2 (LeakyReLU)    (None, 60)                0         \n",
      "_________________________________________________________________\n",
      "dropout_1 (Dropout)          (None, 60)                0         \n",
      "_________________________________________________________________\n",
      "dense_5 (Dense)              (None, 10)                610       \n",
      "=================================================================\n",
      "Total params: 655,098\n",
      "Trainable params: 648,234\n",
      "Non-trainable params: 6,864\n",
      "_________________________________________________________________\n"
     ]
    }
   ],
   "source": [
    "model.summary()"
   ]
  },
  {
   "cell_type": "code",
   "execution_count": 20,
   "metadata": {},
   "outputs": [
    {
     "name": "stdout",
     "output_type": "stream",
     "text": [
      "classification Report :\n",
      "               precision    recall  f1-score   support\n",
      "\n",
      "           0       0.59      0.58      0.59      1000\n",
      "           1       0.65      0.61      0.63      1000\n",
      "           2       0.41      0.40      0.41      1000\n",
      "           3       0.37      0.34      0.35      1000\n",
      "           4       0.42      0.50      0.46      1000\n",
      "           5       0.44      0.38      0.41      1000\n",
      "           6       0.56      0.61      0.58      1000\n",
      "           7       0.61      0.58      0.60      1000\n",
      "           8       0.64      0.65      0.65      1000\n",
      "           9       0.57      0.61      0.59      1000\n",
      "\n",
      "    accuracy                           0.53     10000\n",
      "   macro avg       0.53      0.53      0.53     10000\n",
      "weighted avg       0.53      0.53      0.53     10000\n",
      "\n"
     ]
    }
   ],
   "source": [
    "#predictions:\n",
    "y_pred = model.predict(X_test)\n",
    "y_class = [np.argmax(element) for element in y_pred]\n",
    "print(\"classification Report :\\n\",classification_report(ytest1,y_class))"
   ]
  },
  {
   "cell_type": "code",
   "execution_count": 15,
   "metadata": {},
   "outputs": [
    {
     "data": {
      "image/png": "[encoded data removed]",
      "text/plain": [
       "<Figure size 720x720 with 2 Axes>"
      ]
     },
     "metadata": {
      "needs_background": "light"
     },
     "output_type": "display_data"
    }
   ],
   "source": [
    "#plotting the accuracy\n",
    "plt.figure(figsize=(10,10))\n",
    "plt.subplot(2,2,1)\n",
    "plt.plot(history.history['val_accuracy'])\n",
    "plt.plot(history.history['accuracy'])\n",
    "plt.xlabel('Epochs')\n",
    "plt.ylabel('Accuracy')\n",
    "plt.title('Model Accuracy')\n",
    "plt.legend(['Validation accuracy','Train accuracy'], loc = 'lower right')\n",
    "\n",
    "\n",
    "#plotting the losses\n",
    "plt.subplot(2,2,2)\n",
    "plt.plot(history.history['val_loss'])\n",
    "plt.plot(history.history['loss'])\n",
    "plt.xlabel('Epochs')\n",
    "plt.ylabel('Categorical Cross Entropy')\n",
    "plt.title('Model Losses')\n",
    "plt.legend(['Test','Train'], loc = 'upper right')\n",
    "plt.show()"
   ]
  },
  {
   "cell_type": "markdown",
   "metadata": {},
   "source": [
    "### Method 3: Logistic Regression"
   ]
  },
  {
   "cell_type": "code",
   "execution_count": 16,
   "metadata": {},
   "outputs": [
    {
     "name": "stdout",
     "output_type": "stream",
     "text": [
      "X_train shape: (50000, 32, 32, 3)\n",
      "50000 train samples\n",
      "10000 test samples\n"
     ]
    }
   ],
   "source": [
    "# load dataset keras will download cifar-10 datset\n",
    "(X_train1, y_train1), (X_test1, y_test1) = cifar10.load_data()  \n",
    "\n",
    "print('X_train shape:', X_train.shape)\n",
    "print(X_train1.shape[0], 'train samples')\n",
    "print(X_test1.shape[0], 'test samples')\n",
    "\n",
    "#Reshape the input image from 4D to 2D\n",
    "X_train1 = np.reshape(X_train, (X_train.shape[0], -1))\n",
    "X_test1 = np.reshape(X_test, (X_test.shape[0], -1))"
   ]
  },
  {
   "cell_type": "code",
   "execution_count": 17,
   "metadata": {},
   "outputs": [
    {
     "name": "stderr",
     "output_type": "stream",
     "text": [
      "C:\\Users\\User\\anaconda3\\lib\\site-packages\\sklearn\\utils\\validation.py:63: DataConversionWarning: A column-vector y was passed when a 1d array was expected. Please change the shape of y to (n_samples, ), for example using ravel().\n",
      "  return f(*args, **kwargs)\n",
      "C:\\Users\\User\\anaconda3\\lib\\site-packages\\sklearn\\linear_model\\_logistic.py:763: ConvergenceWarning: lbfgs failed to converge (status=1):\n",
      "STOP: TOTAL NO. of ITERATIONS REACHED LIMIT.\n",
      "\n",
      "Increase the number of iterations (max_iter) or scale the data as shown in:\n",
      "    https://scikit-learn.org/stable/modules/preprocessing.html\n",
      "Please also refer to the documentation for alternative solver options:\n",
      "    https://scikit-learn.org/stable/modules/linear_model.html#logistic-regression\n",
      "  n_iter_i = _check_optimize_result(\n",
      "C:\\Users\\User\\anaconda3\\lib\\site-packages\\sklearn\\linear_model\\_logistic.py:763: ConvergenceWarning: lbfgs failed to converge (status=1):\n",
      "STOP: TOTAL NO. of ITERATIONS REACHED LIMIT.\n",
      "\n",
      "Increase the number of iterations (max_iter) or scale the data as shown in:\n",
      "    https://scikit-learn.org/stable/modules/preprocessing.html\n",
      "Please also refer to the documentation for alternative solver options:\n",
      "    https://scikit-learn.org/stable/modules/linear_model.html#logistic-regression\n",
      "  n_iter_i = _check_optimize_result(\n",
      "C:\\Users\\User\\anaconda3\\lib\\site-packages\\sklearn\\linear_model\\_logistic.py:763: ConvergenceWarning: lbfgs failed to converge (status=1):\n",
      "STOP: TOTAL NO. of ITERATIONS REACHED LIMIT.\n",
      "\n",
      "Increase the number of iterations (max_iter) or scale the data as shown in:\n",
      "    https://scikit-learn.org/stable/modules/preprocessing.html\n",
      "Please also refer to the documentation for alternative solver options:\n",
      "    https://scikit-learn.org/stable/modules/linear_model.html#logistic-regression\n",
      "  n_iter_i = _check_optimize_result(\n",
      "C:\\Users\\User\\anaconda3\\lib\\site-packages\\sklearn\\linear_model\\_logistic.py:763: ConvergenceWarning: lbfgs failed to converge (status=1):\n",
      "STOP: TOTAL NO. of ITERATIONS REACHED LIMIT.\n",
      "\n",
      "Increase the number of iterations (max_iter) or scale the data as shown in:\n",
      "    https://scikit-learn.org/stable/modules/preprocessing.html\n",
      "Please also refer to the documentation for alternative solver options:\n",
      "    https://scikit-learn.org/stable/modules/linear_model.html#logistic-regression\n",
      "  n_iter_i = _check_optimize_result(\n",
      "C:\\Users\\User\\anaconda3\\lib\\site-packages\\sklearn\\linear_model\\_logistic.py:763: ConvergenceWarning: lbfgs failed to converge (status=1):\n",
      "STOP: TOTAL NO. of ITERATIONS REACHED LIMIT.\n",
      "\n",
      "Increase the number of iterations (max_iter) or scale the data as shown in:\n",
      "    https://scikit-learn.org/stable/modules/preprocessing.html\n",
      "Please also refer to the documentation for alternative solver options:\n",
      "    https://scikit-learn.org/stable/modules/linear_model.html#logistic-regression\n",
      "  n_iter_i = _check_optimize_result(\n",
      "C:\\Users\\User\\anaconda3\\lib\\site-packages\\sklearn\\linear_model\\_logistic.py:763: ConvergenceWarning: lbfgs failed to converge (status=1):\n",
      "STOP: TOTAL NO. of ITERATIONS REACHED LIMIT.\n",
      "\n",
      "Increase the number of iterations (max_iter) or scale the data as shown in:\n",
      "    https://scikit-learn.org/stable/modules/preprocessing.html\n",
      "Please also refer to the documentation for alternative solver options:\n",
      "    https://scikit-learn.org/stable/modules/linear_model.html#logistic-regression\n",
      "  n_iter_i = _check_optimize_result(\n",
      "C:\\Users\\User\\anaconda3\\lib\\site-packages\\sklearn\\linear_model\\_logistic.py:763: ConvergenceWarning: lbfgs failed to converge (status=1):\n",
      "STOP: TOTAL NO. of ITERATIONS REACHED LIMIT.\n",
      "\n",
      "Increase the number of iterations (max_iter) or scale the data as shown in:\n",
      "    https://scikit-learn.org/stable/modules/preprocessing.html\n",
      "Please also refer to the documentation for alternative solver options:\n",
      "    https://scikit-learn.org/stable/modules/linear_model.html#logistic-regression\n",
      "  n_iter_i = _check_optimize_result(\n",
      "C:\\Users\\User\\anaconda3\\lib\\site-packages\\sklearn\\linear_model\\_logistic.py:763: ConvergenceWarning: lbfgs failed to converge (status=1):\n",
      "STOP: TOTAL NO. of ITERATIONS REACHED LIMIT.\n",
      "\n",
      "Increase the number of iterations (max_iter) or scale the data as shown in:\n",
      "    https://scikit-learn.org/stable/modules/preprocessing.html\n",
      "Please also refer to the documentation for alternative solver options:\n",
      "    https://scikit-learn.org/stable/modules/linear_model.html#logistic-regression\n",
      "  n_iter_i = _check_optimize_result(\n",
      "C:\\Users\\User\\anaconda3\\lib\\site-packages\\sklearn\\linear_model\\_logistic.py:763: ConvergenceWarning: lbfgs failed to converge (status=1):\n",
      "STOP: TOTAL NO. of ITERATIONS REACHED LIMIT.\n",
      "\n",
      "Increase the number of iterations (max_iter) or scale the data as shown in:\n",
      "    https://scikit-learn.org/stable/modules/preprocessing.html\n",
      "Please also refer to the documentation for alternative solver options:\n",
      "    https://scikit-learn.org/stable/modules/linear_model.html#logistic-regression\n",
      "  n_iter_i = _check_optimize_result(\n",
      "C:\\Users\\User\\anaconda3\\lib\\site-packages\\sklearn\\linear_model\\_logistic.py:763: ConvergenceWarning: lbfgs failed to converge (status=1):\n",
      "STOP: TOTAL NO. of ITERATIONS REACHED LIMIT.\n",
      "\n",
      "Increase the number of iterations (max_iter) or scale the data as shown in:\n",
      "    https://scikit-learn.org/stable/modules/preprocessing.html\n",
      "Please also refer to the documentation for alternative solver options:\n",
      "    https://scikit-learn.org/stable/modules/linear_model.html#logistic-regression\n",
      "  n_iter_i = _check_optimize_result(\n"
     ]
    }
   ],
   "source": [
    "start_time=time.time()\n",
    "#fitting data to logistic regression model\n",
    "logreg = LogisticRegression(multi_class='ovr')\n",
    "model1 = logreg.fit(X_train1,y_train1)"
   ]
  },
  {
   "cell_type": "code",
   "execution_count": 18,
   "metadata": {},
   "outputs": [
    {
     "name": "stdout",
     "output_type": "stream",
     "text": [
      "Convergence Time in seconds: 134.61242723464966\n"
     ]
    },
    {
     "data": {
      "image/png": "[encoded data removed]",
      "text/plain": [
       "<Figure size 432x288 with 2 Axes>"
      ]
     },
     "metadata": {
      "needs_background": "light"
     },
     "output_type": "display_data"
    },
    {
     "name": "stdout",
     "output_type": "stream",
     "text": [
      "Logistic Regression Classification Report:\n",
      "\n",
      "               precision    recall  f1-score   support\n",
      "\n",
      "           0       0.47      0.50      0.48      1000\n",
      "           1       0.46      0.47      0.47      1000\n",
      "           2       0.33      0.29      0.31      1000\n",
      "           3       0.28      0.25      0.26      1000\n",
      "           4       0.35      0.29      0.32      1000\n",
      "           5       0.35      0.34      0.34      1000\n",
      "           6       0.40      0.49      0.44      1000\n",
      "           7       0.45      0.44      0.44      1000\n",
      "           8       0.50      0.52      0.51      1000\n",
      "           9       0.41      0.45      0.43      1000\n",
      "\n",
      "    accuracy                           0.40     10000\n",
      "   macro avg       0.40      0.40      0.40     10000\n",
      "weighted avg       0.40      0.40      0.40     10000\n",
      "\n"
     ]
    }
   ],
   "source": [
    "end_time = time.time()\n",
    "print(\"Convergence Time in seconds:\",(end_time - start_time))\n",
    "#finding tghe predictions\n",
    "y_predlog = model1.predict(X_test1)\n",
    "\n",
    "\n",
    "# Plotting confusion matrix\n",
    "cm = plot_confusion_matrix(model1,X_test1,y_test1, cmap=plt.cm.Blues)\n",
    "plt.title(\"Confusion Matrix\")\n",
    "plt.show()\n",
    "\n",
    "\n",
    "# Getting the classification report\n",
    "print(\"Logistic Regression Classification Report:\\n\\n\",classification_report(y_test1, y_predlog))"
   ]
  },
  {
   "cell_type": "markdown",
   "metadata": {},
   "source": [
    "### Method 4: SVM with RBF Kernal"
   ]
  },
  {
   "cell_type": "code",
   "execution_count": 19,
   "metadata": {},
   "outputs": [
    {
     "name": "stderr",
     "output_type": "stream",
     "text": [
      "C:\\Users\\User\\anaconda3\\lib\\site-packages\\sklearn\\utils\\validation.py:63: DataConversionWarning: A column-vector y was passed when a 1d array was expected. Please change the shape of y to (n_samples, ), for example using ravel().\n",
      "  return f(*args, **kwargs)\n",
      "C:\\Users\\User\\anaconda3\\lib\\site-packages\\sklearn\\utils\\validation.py:63: DataConversionWarning: A column-vector y was passed when a 1d array was expected. Please change the shape of y to (n_samples, ), for example using ravel().\n",
      "  return f(*args, **kwargs)\n",
      "C:\\Users\\User\\anaconda3\\lib\\site-packages\\sklearn\\utils\\validation.py:63: DataConversionWarning: A column-vector y was passed when a 1d array was expected. Please change the shape of y to (n_samples, ), for example using ravel().\n",
      "  return f(*args, **kwargs)\n",
      "C:\\Users\\User\\anaconda3\\lib\\site-packages\\sklearn\\utils\\validation.py:63: DataConversionWarning: A column-vector y was passed when a 1d array was expected. Please change the shape of y to (n_samples, ), for example using ravel().\n",
      "  return f(*args, **kwargs)\n",
      "C:\\Users\\User\\anaconda3\\lib\\site-packages\\sklearn\\utils\\validation.py:63: DataConversionWarning: A column-vector y was passed when a 1d array was expected. Please change the shape of y to (n_samples, ), for example using ravel().\n",
      "  return f(*args, **kwargs)\n",
      "C:\\Users\\User\\anaconda3\\lib\\site-packages\\sklearn\\utils\\validation.py:63: DataConversionWarning: A column-vector y was passed when a 1d array was expected. Please change the shape of y to (n_samples, ), for example using ravel().\n",
      "  return f(*args, **kwargs)\n"
     ]
    },
    {
     "data": {
      "image/png": "[encoded data removed]",
      "text/plain": [
       "<Figure size 432x288 with 1 Axes>"
      ]
     },
     "metadata": {
      "needs_background": "light"
     },
     "output_type": "display_data"
    },
    {
     "name": "stdout",
     "output_type": "stream",
     "text": [
      "Convergence Time in seconds: 3860.929183244705\n"
     ]
    }
   ],
   "source": [
    "start_time = time.time()\n",
    "train_acc1=[]\n",
    "test_acc1=[]\n",
    "\n",
    "def svm_rbf(c):\n",
    "    SVM_RBF = SVC(probability = False, kernel = 'rbf', C = c)\n",
    "    \n",
    "    SVM_RBF.fit(X_train1[:10000,:], y_train1[:10000]) \n",
    "    \n",
    "    # Find the prediction and accuracy on the training set\n",
    "    train_pred= SVM_RBF.predict(X_train1[:10000,:])\n",
    "    train_acc = accuracy_score(y_train1[:10000],train_pred)\n",
    "    train_acc1.append(train_acc)\n",
    "   \n",
    "    # Find the prediction and accuracy on the test set\n",
    "    test_pred= SVM_RBF.predict(X_test1[:10000,:])\n",
    "    test_acc = accuracy_score(y_train1[:10000],train_pred)\n",
    "    test_acc1.append(test_acc)\n",
    "    \n",
    "c = [0.001,0.01,0.1,1,10,100]\n",
    "\n",
    "for c_value in c:\n",
    "    svm_rbf(c_value)\n",
    "    \n",
    "plt.plot(c, train_acc1,color='blue')\n",
    "plt.plot(c, test_acc1,color='red',linestyle=':')\n",
    "plt.xlabel('c')\n",
    "plt.ylabel('Accuracy')\n",
    "plt.legend(['Train Accuracy','Test Accuracy'])\n",
    "plt.title(\"Performance of SVM with RBF Kernel\")\n",
    "plt.show()\n",
    "\n",
    "end_time = time.time()\n",
    "print(\"Convergence Time in seconds:\",(end_time - start_time))"
   ]
  }
 ],
 "metadata": {
  "kernelspec": {
   "display_name": "Python 3",
   "language": "python",
   "name": "python3"
  },
  "language_info": {
   "codemirror_mode": {
    "name": "ipython",
    "version": 3
   },
   "file_extension": ".py",
   "mimetype": "text/x-python",
   "name": "python",
   "nbconvert_exporter": "python",
   "pygments_lexer": "ipython3",
   "version": "3.8.5"
  }
 },
 "nbformat": 4,
 "nbformat_minor": 4
}
